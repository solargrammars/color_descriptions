{
 "cells": [
  {
   "cell_type": "code",
   "execution_count": 1,
   "metadata": {},
   "outputs": [],
   "source": [
    "import os\n",
    "import sys\n",
    "import random\n",
    "import colorsys\n",
    "module_path = os.path.abspath(os.path.join('..'))\n",
    "if module_path not in sys.path:\n",
    "    sys.path.append(module_path)\n",
    "    \n",
    "from data import read_train_data, read_test_data\n",
    "from colormath.color_objects import HSVColor, sRGBColor, AdobeRGBColor\n",
    "from colormath.color_conversions import convert_color\n",
    "from IPython.display import HTML, display"
   ]
  },
  {
   "cell_type": "code",
   "execution_count": 2,
   "metadata": {},
   "outputs": [],
   "source": [
    "def hsv2hex(c):\n",
    "    r,g,b =  colorsys.hsv_to_rgb(int(c[0])/360, int(c[1])/100, int(c[2])/100)\n",
    "    rgb = sRGBColor(r,g,b)\n",
    "    return rgb.get_rgb_hex()\n",
    "def replace_tokens(d):\n",
    "    d = d.replace(\"<BOS>\", '')\n",
    "    d = d.replace(\"<EOS>\", '')\n",
    "    d = d.replace(\"<PAD>\", '')\n",
    "    return d"
   ]
  },
  {
   "cell_type": "code",
   "execution_count": 3,
   "metadata": {},
   "outputs": [],
   "source": [
    "output_path = \"/home/user/data/color-description/\"\n",
    "\n",
    "with open(output_path+\"19.txt\", 'r') as f:\n",
    "    data = [ replace_tokens(l).strip().split(\"|\") for l in  f.readlines()] \n",
    "    \n",
    "results = [ (i[0].strip(), i[1].strip(), hsv2hex([float(c) for c  in i[2].split(\" \")])) for i in data]"
   ]
  },
  {
   "cell_type": "code",
   "execution_count": 4,
   "metadata": {},
   "outputs": [
    {
     "data": {
      "text/html": [
       "<div style='float:left;width:150px;'>blue</div>     <div style='float:left;width:150px;'>sky blue</div>     <div style='float:left;background:#0796f5;padding:10px;width:300px;'></div>"
      ],
      "text/plain": [
       "<IPython.core.display.HTML object>"
      ]
     },
     "metadata": {},
     "output_type": "display_data"
    },
    {
     "data": {
      "text/html": [
       "<div style='float:left;width:150px;'>pink</div>     <div style='float:left;width:150px;'>lavender</div>     <div style='float:left;background:#edcadf;padding:10px;width:300px;'></div>"
      ],
      "text/plain": [
       "<IPython.core.display.HTML object>"
      ]
     },
     "metadata": {},
     "output_type": "display_data"
    },
    {
     "data": {
      "text/html": [
       "<div style='float:left;width:150px;'>purple</div>     <div style='float:left;width:150px;'>purple</div>     <div style='float:left;background:#a15fc7;padding:10px;width:300px;'></div>"
      ],
      "text/plain": [
       "<IPython.core.display.HTML object>"
      ]
     },
     "metadata": {},
     "output_type": "display_data"
    },
    {
     "data": {
      "text/html": [
       "<div style='float:left;width:150px;'>salmon</div>     <div style='float:left;width:150px;'>pink</div>     <div style='float:left;background:#f76d63;padding:10px;width:300px;'></div>"
      ],
      "text/plain": [
       "<IPython.core.display.HTML object>"
      ]
     },
     "metadata": {},
     "output_type": "display_data"
    },
    {
     "data": {
      "text/html": [
       "<div style='float:left;width:150px;'>lime</div>     <div style='float:left;width:150px;'>green</div>     <div style='float:left;background:#aaeb2a;padding:10px;width:300px;'></div>"
      ],
      "text/plain": [
       "<IPython.core.display.HTML object>"
      ]
     },
     "metadata": {},
     "output_type": "display_data"
    },
    {
     "data": {
      "text/html": [
       "<div style='float:left;width:150px;'>purple</div>     <div style='float:left;width:150px;'>lavender</div>     <div style='float:left;background:#9e80c2;padding:10px;width:300px;'></div>"
      ],
      "text/plain": [
       "<IPython.core.display.HTML object>"
      ]
     },
     "metadata": {},
     "output_type": "display_data"
    },
    {
     "data": {
      "text/html": [
       "<div style='float:left;width:150px;'>yellow</div>     <div style='float:left;width:150px;'>pale yellow</div>     <div style='float:left;background:#f0e965;padding:10px;width:300px;'></div>"
      ],
      "text/plain": [
       "<IPython.core.display.HTML object>"
      ]
     },
     "metadata": {},
     "output_type": "display_data"
    },
    {
     "data": {
      "text/html": [
       "<div style='float:left;width:150px;'>lavender</div>     <div style='float:left;width:150px;'>lilac</div>     <div style='float:left;background:#c2aaf2;padding:10px;width:300px;'></div>"
      ],
      "text/plain": [
       "<IPython.core.display.HTML object>"
      ]
     },
     "metadata": {},
     "output_type": "display_data"
    },
    {
     "data": {
      "text/html": [
       "<div style='float:left;width:150px;'>brown</div>     <div style='float:left;width:150px;'>light brown</div>     <div style='float:left;background:#b3784f;padding:10px;width:300px;'></div>"
      ],
      "text/plain": [
       "<IPython.core.display.HTML object>"
      ]
     },
     "metadata": {},
     "output_type": "display_data"
    },
    {
     "data": {
      "text/html": [
       "<div style='float:left;width:150px;'>green</div>     <div style='float:left;width:150px;'>forest green</div>     <div style='float:left;background:#145736;padding:10px;width:300px;'></div>"
      ],
      "text/plain": [
       "<IPython.core.display.HTML object>"
      ]
     },
     "metadata": {},
     "output_type": "display_data"
    },
    {
     "data": {
      "text/html": [
       "<div style='float:left;width:150px;'>yellow</div>     <div style='float:left;width:150px;'>yellow</div>     <div style='float:left;background:#eaf51b;padding:10px;width:300px;'></div>"
      ],
      "text/plain": [
       "<IPython.core.display.HTML object>"
      ]
     },
     "metadata": {},
     "output_type": "display_data"
    },
    {
     "data": {
      "text/html": [
       "<div style='float:left;width:150px;'>brown</div>     <div style='float:left;width:150px;'>burnt sienna</div>     <div style='float:left;background:#a6974b;padding:10px;width:300px;'></div>"
      ],
      "text/plain": [
       "<IPython.core.display.HTML object>"
      ]
     },
     "metadata": {},
     "output_type": "display_data"
    },
    {
     "data": {
      "text/html": [
       "<div style='float:left;width:150px;'>blue</div>     <div style='float:left;width:150px;'>periwinkle</div>     <div style='float:left;background:#7d86ff;padding:10px;width:300px;'></div>"
      ],
      "text/plain": [
       "<IPython.core.display.HTML object>"
      ]
     },
     "metadata": {},
     "output_type": "display_data"
    },
    {
     "data": {
      "text/html": [
       "<div style='float:left;width:150px;'>green</div>     <div style='float:left;width:150px;'>green</div>     <div style='float:left;background:#298a24;padding:10px;width:300px;'></div>"
      ],
      "text/plain": [
       "<IPython.core.display.HTML object>"
      ]
     },
     "metadata": {},
     "output_type": "display_data"
    },
    {
     "data": {
      "text/html": [
       "<div style='float:left;width:150px;'>pink</div>     <div style='float:left;width:150px;'>magenta</div>     <div style='float:left;background:#c92094;padding:10px;width:300px;'></div>"
      ],
      "text/plain": [
       "<IPython.core.display.HTML object>"
      ]
     },
     "metadata": {},
     "output_type": "display_data"
    },
    {
     "data": {
      "text/html": [
       "<div style='float:left;width:150px;'>blue</div>     <div style='float:left;width:150px;'>dusky blue</div>     <div style='float:left;background:#111269;padding:10px;width:300px;'></div>"
      ],
      "text/plain": [
       "<IPython.core.display.HTML object>"
      ]
     },
     "metadata": {},
     "output_type": "display_data"
    },
    {
     "data": {
      "text/html": [
       "<div style='float:left;width:150px;'>blue</div>     <div style='float:left;width:150px;'>royal blue</div>     <div style='float:left;background:#1e2ebd;padding:10px;width:300px;'></div>"
      ],
      "text/plain": [
       "<IPython.core.display.HTML object>"
      ]
     },
     "metadata": {},
     "output_type": "display_data"
    },
    {
     "data": {
      "text/html": [
       "<div style='float:left;width:150px;'>lime</div>     <div style='float:left;width:150px;'>yellow-green</div>     <div style='float:left;background:#b0fa02;padding:10px;width:300px;'></div>"
      ],
      "text/plain": [
       "<IPython.core.display.HTML object>"
      ]
     },
     "metadata": {},
     "output_type": "display_data"
    },
    {
     "data": {
      "text/html": [
       "<div style='float:left;width:150px;'>maroon</div>     <div style='float:left;width:150px;'>aubergine</div>     <div style='float:left;background:#521d3c;padding:10px;width:300px;'></div>"
      ],
      "text/plain": [
       "<IPython.core.display.HTML object>"
      ]
     },
     "metadata": {},
     "output_type": "display_data"
    },
    {
     "data": {
      "text/html": [
       "<div style='float:left;width:150px;'>orange</div>     <div style='float:left;width:150px;'>orange</div>     <div style='float:left;background:#f2750f;padding:10px;width:300px;'></div>"
      ],
      "text/plain": [
       "<IPython.core.display.HTML object>"
      ]
     },
     "metadata": {},
     "output_type": "display_data"
    }
   ],
   "source": [
    "for gen, ref, ref_color in results[:20]:\n",
    "    display(HTML(\"<div style='float:left;width:150px;'>\"+ gen + \"</div> \\\n",
    "    <div style='float:left;width:150px;'>\"+ ref + \"</div> \\\n",
    "    <div style='float:left;background:\"+ ref_color +\";padding:10px;width:300px;'></div>\"))"
   ]
  },
  {
   "cell_type": "code",
   "execution_count": 11,
   "metadata": {},
   "outputs": [
    {
     "name": "stdout",
     "output_type": "stream",
     "text": [
      "22481\n"
     ]
    }
   ],
   "source": [
    "results_gen_seq = [i for i in results if  len(i[0].split(\" \")) >1 ] \n",
    "print(len(results_gen_seq))"
   ]
  },
  {
   "cell_type": "code",
   "execution_count": 12,
   "metadata": {},
   "outputs": [
    {
     "data": {
      "text/html": [
       "<div style='float:left;width:150px;'>olive green</div>     <div style='float:left;width:150px;'>vomit</div>     <div style='float:left;background:#3a4007;padding:10px;width:300px;'></div>"
      ],
      "text/plain": [
       "<IPython.core.display.HTML object>"
      ]
     },
     "metadata": {},
     "output_type": "display_data"
    },
    {
     "data": {
      "text/html": [
       "<div style='float:left;width:150px;'>light green</div>     <div style='float:left;width:150px;'>light green</div>     <div style='float:left;background:#91faa4;padding:10px;width:300px;'></div>"
      ],
      "text/plain": [
       "<IPython.core.display.HTML object>"
      ]
     },
     "metadata": {},
     "output_type": "display_data"
    },
    {
     "data": {
      "text/html": [
       "<div style='float:left;width:150px;'>light blue</div>     <div style='float:left;width:150px;'>blue</div>     <div style='float:left;background:#accde6;padding:10px;width:300px;'></div>"
      ],
      "text/plain": [
       "<IPython.core.display.HTML object>"
      ]
     },
     "metadata": {},
     "output_type": "display_data"
    },
    {
     "data": {
      "text/html": [
       "<div style='float:left;width:150px;'>light blue</div>     <div style='float:left;width:150px;'>greyish blue</div>     <div style='float:left;background:#add0ed;padding:10px;width:300px;'></div>"
      ],
      "text/plain": [
       "<IPython.core.display.HTML object>"
      ]
     },
     "metadata": {},
     "output_type": "display_data"
    },
    {
     "data": {
      "text/html": [
       "<div style='float:left;width:150px;'>light blue</div>     <div style='float:left;width:150px;'>blue</div>     <div style='float:left;background:#73bde6;padding:10px;width:300px;'></div>"
      ],
      "text/plain": [
       "<IPython.core.display.HTML object>"
      ]
     },
     "metadata": {},
     "output_type": "display_data"
    },
    {
     "data": {
      "text/html": [
       "<div style='float:left;width:150px;'>light blue</div>     <div style='float:left;width:150px;'>sky blue</div>     <div style='float:left;background:#a5bcfa;padding:10px;width:300px;'></div>"
      ],
      "text/plain": [
       "<IPython.core.display.HTML object>"
      ]
     },
     "metadata": {},
     "output_type": "display_data"
    },
    {
     "data": {
      "text/html": [
       "<div style='float:left;width:150px;'>light blue</div>     <div style='float:left;width:150px;'>light blue</div>     <div style='float:left;background:#79b8f2;padding:10px;width:300px;'></div>"
      ],
      "text/plain": [
       "<IPython.core.display.HTML object>"
      ]
     },
     "metadata": {},
     "output_type": "display_data"
    },
    {
     "data": {
      "text/html": [
       "<div style='float:left;width:150px;'>light green</div>     <div style='float:left;width:150px;'>green</div>     <div style='float:left;background:#90de99;padding:10px;width:300px;'></div>"
      ],
      "text/plain": [
       "<IPython.core.display.HTML object>"
      ]
     },
     "metadata": {},
     "output_type": "display_data"
    },
    {
     "data": {
      "text/html": [
       "<div style='float:left;width:150px;'>olive green</div>     <div style='float:left;width:150px;'>green</div>     <div style='float:left;background:#59660d;padding:10px;width:300px;'></div>"
      ],
      "text/plain": [
       "<IPython.core.display.HTML object>"
      ]
     },
     "metadata": {},
     "output_type": "display_data"
    },
    {
     "data": {
      "text/html": [
       "<div style='float:left;width:150px;'>dark green</div>     <div style='float:left;width:150px;'>dark green</div>     <div style='float:left;background:#20451e;padding:10px;width:300px;'></div>"
      ],
      "text/plain": [
       "<IPython.core.display.HTML object>"
      ]
     },
     "metadata": {},
     "output_type": "display_data"
    },
    {
     "data": {
      "text/html": [
       "<div style='float:left;width:150px;'>light blue</div>     <div style='float:left;width:150px;'>sky blue</div>     <div style='float:left;background:#90c3f0;padding:10px;width:300px;'></div>"
      ],
      "text/plain": [
       "<IPython.core.display.HTML object>"
      ]
     },
     "metadata": {},
     "output_type": "display_data"
    },
    {
     "data": {
      "text/html": [
       "<div style='float:left;width:150px;'>light green</div>     <div style='float:left;width:150px;'>light green</div>     <div style='float:left;background:#7cfc95;padding:10px;width:300px;'></div>"
      ],
      "text/plain": [
       "<IPython.core.display.HTML object>"
      ]
     },
     "metadata": {},
     "output_type": "display_data"
    },
    {
     "data": {
      "text/html": [
       "<div style='float:left;width:150px;'>light green</div>     <div style='float:left;width:150px;'>very light blue</div>     <div style='float:left;background:#b0dba7;padding:10px;width:300px;'></div>"
      ],
      "text/plain": [
       "<IPython.core.display.HTML object>"
      ]
     },
     "metadata": {},
     "output_type": "display_data"
    },
    {
     "data": {
      "text/html": [
       "<div style='float:left;width:150px;'>navy blue</div>     <div style='float:left;width:150px;'>blue</div>     <div style='float:left;background:#1c325c;padding:10px;width:300px;'></div>"
      ],
      "text/plain": [
       "<IPython.core.display.HTML object>"
      ]
     },
     "metadata": {},
     "output_type": "display_data"
    },
    {
     "data": {
      "text/html": [
       "<div style='float:left;width:150px;'>light blue</div>     <div style='float:left;width:150px;'>sky blue</div>     <div style='float:left;background:#a4f2f5;padding:10px;width:300px;'></div>"
      ],
      "text/plain": [
       "<IPython.core.display.HTML object>"
      ]
     },
     "metadata": {},
     "output_type": "display_data"
    },
    {
     "data": {
      "text/html": [
       "<div style='float:left;width:150px;'>olive green</div>     <div style='float:left;width:150px;'>green</div>     <div style='float:left;background:#62730f;padding:10px;width:300px;'></div>"
      ],
      "text/plain": [
       "<IPython.core.display.HTML object>"
      ]
     },
     "metadata": {},
     "output_type": "display_data"
    },
    {
     "data": {
      "text/html": [
       "<div style='float:left;width:150px;'>olive green</div>     <div style='float:left;width:150px;'>green</div>     <div style='float:left;background:#555925;padding:10px;width:300px;'></div>"
      ],
      "text/plain": [
       "<IPython.core.display.HTML object>"
      ]
     },
     "metadata": {},
     "output_type": "display_data"
    },
    {
     "data": {
      "text/html": [
       "<div style='float:left;width:150px;'>dark green</div>     <div style='float:left;width:150px;'>forest green</div>     <div style='float:left;background:#1a360c;padding:10px;width:300px;'></div>"
      ],
      "text/plain": [
       "<IPython.core.display.HTML object>"
      ]
     },
     "metadata": {},
     "output_type": "display_data"
    },
    {
     "data": {
      "text/html": [
       "<div style='float:left;width:150px;'>dark green</div>     <div style='float:left;width:150px;'>dark green</div>     <div style='float:left;background:#2a4011;padding:10px;width:300px;'></div>"
      ],
      "text/plain": [
       "<IPython.core.display.HTML object>"
      ]
     },
     "metadata": {},
     "output_type": "display_data"
    },
    {
     "data": {
      "text/html": [
       "<div style='float:left;width:150px;'>dark green</div>     <div style='float:left;width:150px;'>forest green</div>     <div style='float:left;background:#2a4a16;padding:10px;width:300px;'></div>"
      ],
      "text/plain": [
       "<IPython.core.display.HTML object>"
      ]
     },
     "metadata": {},
     "output_type": "display_data"
    },
    {
     "data": {
      "text/html": [
       "<div style='float:left;width:150px;'>blue blue</div>     <div style='float:left;width:150px;'>navy blue</div>     <div style='float:left;background:#1f3f6b;padding:10px;width:300px;'></div>"
      ],
      "text/plain": [
       "<IPython.core.display.HTML object>"
      ]
     },
     "metadata": {},
     "output_type": "display_data"
    },
    {
     "data": {
      "text/html": [
       "<div style='float:left;width:150px;'>olive green</div>     <div style='float:left;width:150px;'>green</div>     <div style='float:left;background:#535c02;padding:10px;width:300px;'></div>"
      ],
      "text/plain": [
       "<IPython.core.display.HTML object>"
      ]
     },
     "metadata": {},
     "output_type": "display_data"
    },
    {
     "data": {
      "text/html": [
       "<div style='float:left;width:150px;'>light green</div>     <div style='float:left;width:150px;'>eggshell</div>     <div style='float:left;background:#bee8bc;padding:10px;width:300px;'></div>"
      ],
      "text/plain": [
       "<IPython.core.display.HTML object>"
      ]
     },
     "metadata": {},
     "output_type": "display_data"
    },
    {
     "data": {
      "text/html": [
       "<div style='float:left;width:150px;'>olive green</div>     <div style='float:left;width:150px;'>olive green</div>     <div style='float:left;background:#5e6332;padding:10px;width:300px;'></div>"
      ],
      "text/plain": [
       "<IPython.core.display.HTML object>"
      ]
     },
     "metadata": {},
     "output_type": "display_data"
    },
    {
     "data": {
      "text/html": [
       "<div style='float:left;width:150px;'>light blue</div>     <div style='float:left;width:150px;'>pale cyan</div>     <div style='float:left;background:#96e0db;padding:10px;width:300px;'></div>"
      ],
      "text/plain": [
       "<IPython.core.display.HTML object>"
      ]
     },
     "metadata": {},
     "output_type": "display_data"
    },
    {
     "data": {
      "text/html": [
       "<div style='float:left;width:150px;'>light green</div>     <div style='float:left;width:150px;'>yellow-green</div>     <div style='float:left;background:#b3fa9d;padding:10px;width:300px;'></div>"
      ],
      "text/plain": [
       "<IPython.core.display.HTML object>"
      ]
     },
     "metadata": {},
     "output_type": "display_data"
    },
    {
     "data": {
      "text/html": [
       "<div style='float:left;width:150px;'>light blue</div>     <div style='float:left;width:150px;'>light blue</div>     <div style='float:left;background:#a0dafa;padding:10px;width:300px;'></div>"
      ],
      "text/plain": [
       "<IPython.core.display.HTML object>"
      ]
     },
     "metadata": {},
     "output_type": "display_data"
    },
    {
     "data": {
      "text/html": [
       "<div style='float:left;width:150px;'>light blue</div>     <div style='float:left;width:150px;'>light blue</div>     <div style='float:left;background:#8cccfa;padding:10px;width:300px;'></div>"
      ],
      "text/plain": [
       "<IPython.core.display.HTML object>"
      ]
     },
     "metadata": {},
     "output_type": "display_data"
    },
    {
     "data": {
      "text/html": [
       "<div style='float:left;width:150px;'>light blue</div>     <div style='float:left;width:150px;'>pale blue</div>     <div style='float:left;background:#ccd7ed;padding:10px;width:300px;'></div>"
      ],
      "text/plain": [
       "<IPython.core.display.HTML object>"
      ]
     },
     "metadata": {},
     "output_type": "display_data"
    },
    {
     "data": {
      "text/html": [
       "<div style='float:left;width:150px;'>olive green</div>     <div style='float:left;width:150px;'>army green</div>     <div style='float:left;background:#6b6804;padding:10px;width:300px;'></div>"
      ],
      "text/plain": [
       "<IPython.core.display.HTML object>"
      ]
     },
     "metadata": {},
     "output_type": "display_data"
    }
   ],
   "source": [
    "for gen, ref, ref_color in results_gen_seq[2000:2030]:\n",
    "    display(HTML(\"<div style='float:left;width:150px;'>\"+ gen + \"</div> \\\n",
    "    <div style='float:left;width:150px;'>\"+ ref + \"</div> \\\n",
    "    <div style='float:left;background:\"+ ref_color +\";padding:10px;width:300px;'></div>\"))"
   ]
  },
  {
   "cell_type": "code",
   "execution_count": 27,
   "metadata": {},
   "outputs": [
    {
     "name": "stdout",
     "output_type": "stream",
     "text": [
      "14311\n"
     ]
    }
   ],
   "source": [
    "results_gen_seq_2_2 = [i for i in results if  len(i[0].split(\" \")) >1 and len(i[1].split(\" \")) >1 ] \n",
    "print(len(results_gen_seq_2_2))"
   ]
  },
  {
   "cell_type": "code",
   "execution_count": 30,
   "metadata": {},
   "outputs": [
    {
     "data": {
      "text/html": [
       "<div style='float:left;width:150px;'>light blue</div>     <div style='float:left;width:150px;'>sky blue</div>     <div style='float:left;background:#8cb1cf;padding:10px;width:300px;'></div>"
      ],
      "text/plain": [
       "<IPython.core.display.HTML object>"
      ]
     },
     "metadata": {},
     "output_type": "display_data"
    },
    {
     "data": {
      "text/html": [
       "<div style='float:left;width:150px;'>light blue</div>     <div style='float:left;width:150px;'>light blue</div>     <div style='float:left;background:#c8f7f7;padding:10px;width:300px;'></div>"
      ],
      "text/plain": [
       "<IPython.core.display.HTML object>"
      ]
     },
     "metadata": {},
     "output_type": "display_data"
    },
    {
     "data": {
      "text/html": [
       "<div style='float:left;width:150px;'>navy blue</div>     <div style='float:left;width:150px;'>deep blue</div>     <div style='float:left;background:#14364d;padding:10px;width:300px;'></div>"
      ],
      "text/plain": [
       "<IPython.core.display.HTML object>"
      ]
     },
     "metadata": {},
     "output_type": "display_data"
    },
    {
     "data": {
      "text/html": [
       "<div style='float:left;width:150px;'>light blue</div>     <div style='float:left;width:150px;'>eggshell blue</div>     <div style='float:left;background:#8caddb;padding:10px;width:300px;'></div>"
      ],
      "text/plain": [
       "<IPython.core.display.HTML object>"
      ]
     },
     "metadata": {},
     "output_type": "display_data"
    },
    {
     "data": {
      "text/html": [
       "<div style='float:left;width:150px;'>blue blue</div>     <div style='float:left;width:150px;'>slate blue</div>     <div style='float:left;background:#114f78;padding:10px;width:300px;'></div>"
      ],
      "text/plain": [
       "<IPython.core.display.HTML object>"
      ]
     },
     "metadata": {},
     "output_type": "display_data"
    },
    {
     "data": {
      "text/html": [
       "<div style='float:left;width:150px;'>navy blue</div>     <div style='float:left;width:150px;'>dark blue</div>     <div style='float:left;background:#0b254f;padding:10px;width:300px;'></div>"
      ],
      "text/plain": [
       "<IPython.core.display.HTML object>"
      ]
     },
     "metadata": {},
     "output_type": "display_data"
    },
    {
     "data": {
      "text/html": [
       "<div style='float:left;width:150px;'>navy blue</div>     <div style='float:left;width:150px;'>dark navy blue</div>     <div style='float:left;background:#0b0f36;padding:10px;width:300px;'></div>"
      ],
      "text/plain": [
       "<IPython.core.display.HTML object>"
      ]
     },
     "metadata": {},
     "output_type": "display_data"
    },
    {
     "data": {
      "text/html": [
       "<div style='float:left;width:150px;'>dark green</div>     <div style='float:left;width:150px;'>dark green</div>     <div style='float:left;background:#033623;padding:10px;width:300px;'></div>"
      ],
      "text/plain": [
       "<IPython.core.display.HTML object>"
      ]
     },
     "metadata": {},
     "output_type": "display_data"
    },
    {
     "data": {
      "text/html": [
       "<div style='float:left;width:150px;'>olive green</div>     <div style='float:left;width:150px;'>ugly green</div>     <div style='float:left;background:#595c09;padding:10px;width:300px;'></div>"
      ],
      "text/plain": [
       "<IPython.core.display.HTML object>"
      ]
     },
     "metadata": {},
     "output_type": "display_data"
    },
    {
     "data": {
      "text/html": [
       "<div style='float:left;width:150px;'>light blue</div>     <div style='float:left;width:150px;'>powder blue</div>     <div style='float:left;background:#9ef4ff;padding:10px;width:300px;'></div>"
      ],
      "text/plain": [
       "<IPython.core.display.HTML object>"
      ]
     },
     "metadata": {},
     "output_type": "display_data"
    },
    {
     "data": {
      "text/html": [
       "<div style='float:left;width:150px;'>blue blue</div>     <div style='float:left;width:150px;'>navy blue</div>     <div style='float:left;background:#024a7d;padding:10px;width:300px;'></div>"
      ],
      "text/plain": [
       "<IPython.core.display.HTML object>"
      ]
     },
     "metadata": {},
     "output_type": "display_data"
    },
    {
     "data": {
      "text/html": [
       "<div style='float:left;width:150px;'>dark green</div>     <div style='float:left;width:150px;'>forest green</div>     <div style='float:left;background:#0b3803;padding:10px;width:300px;'></div>"
      ],
      "text/plain": [
       "<IPython.core.display.HTML object>"
      ]
     },
     "metadata": {},
     "output_type": "display_data"
    },
    {
     "data": {
      "text/html": [
       "<div style='float:left;width:150px;'>light blue</div>     <div style='float:left;width:150px;'>baby blue</div>     <div style='float:left;background:#87d7fa;padding:10px;width:300px;'></div>"
      ],
      "text/plain": [
       "<IPython.core.display.HTML object>"
      ]
     },
     "metadata": {},
     "output_type": "display_data"
    },
    {
     "data": {
      "text/html": [
       "<div style='float:left;width:150px;'>light green</div>     <div style='float:left;width:150px;'>light green</div>     <div style='float:left;background:#b6e3b6;padding:10px;width:300px;'></div>"
      ],
      "text/plain": [
       "<IPython.core.display.HTML object>"
      ]
     },
     "metadata": {},
     "output_type": "display_data"
    },
    {
     "data": {
      "text/html": [
       "<div style='float:left;width:150px;'>light blue</div>     <div style='float:left;width:150px;'>baby blue</div>     <div style='float:left;background:#b1bfe6;padding:10px;width:300px;'></div>"
      ],
      "text/plain": [
       "<IPython.core.display.HTML object>"
      ]
     },
     "metadata": {},
     "output_type": "display_data"
    },
    {
     "data": {
      "text/html": [
       "<div style='float:left;width:150px;'>light blue</div>     <div style='float:left;width:150px;'>baby blue</div>     <div style='float:left;background:#b7e0eb;padding:10px;width:300px;'></div>"
      ],
      "text/plain": [
       "<IPython.core.display.HTML object>"
      ]
     },
     "metadata": {},
     "output_type": "display_data"
    },
    {
     "data": {
      "text/html": [
       "<div style='float:left;width:150px;'>light blue</div>     <div style='float:left;width:150px;'>light blue</div>     <div style='float:left;background:#6de9f7;padding:10px;width:300px;'></div>"
      ],
      "text/plain": [
       "<IPython.core.display.HTML object>"
      ]
     },
     "metadata": {},
     "output_type": "display_data"
    },
    {
     "data": {
      "text/html": [
       "<div style='float:left;width:150px;'>navy blue</div>     <div style='float:left;width:150px;'>navy blue</div>     <div style='float:left;background:#010c36;padding:10px;width:300px;'></div>"
      ],
      "text/plain": [
       "<IPython.core.display.HTML object>"
      ]
     },
     "metadata": {},
     "output_type": "display_data"
    },
    {
     "data": {
      "text/html": [
       "<div style='float:left;width:150px;'>olive green</div>     <div style='float:left;width:150px;'>olive green</div>     <div style='float:left;background:#57660c;padding:10px;width:300px;'></div>"
      ],
      "text/plain": [
       "<IPython.core.display.HTML object>"
      ]
     },
     "metadata": {},
     "output_type": "display_data"
    },
    {
     "data": {
      "text/html": [
       "<div style='float:left;width:150px;'>olive green</div>     <div style='float:left;width:150px;'>hunter green</div>     <div style='float:left;background:#465e04;padding:10px;width:300px;'></div>"
      ],
      "text/plain": [
       "<IPython.core.display.HTML object>"
      ]
     },
     "metadata": {},
     "output_type": "display_data"
    },
    {
     "data": {
      "text/html": [
       "<div style='float:left;width:150px;'>light blue</div>     <div style='float:left;width:150px;'>powder blue</div>     <div style='float:left;background:#cef0e8;padding:10px;width:300px;'></div>"
      ],
      "text/plain": [
       "<IPython.core.display.HTML object>"
      ]
     },
     "metadata": {},
     "output_type": "display_data"
    },
    {
     "data": {
      "text/html": [
       "<div style='float:left;width:150px;'>blue blue</div>     <div style='float:left;width:150px;'>dark turquoise</div>     <div style='float:left;background:#125980;padding:10px;width:300px;'></div>"
      ],
      "text/plain": [
       "<IPython.core.display.HTML object>"
      ]
     },
     "metadata": {},
     "output_type": "display_data"
    },
    {
     "data": {
      "text/html": [
       "<div style='float:left;width:150px;'>light blue</div>     <div style='float:left;width:150px;'>light blue</div>     <div style='float:left;background:#79c1db;padding:10px;width:300px;'></div>"
      ],
      "text/plain": [
       "<IPython.core.display.HTML object>"
      ]
     },
     "metadata": {},
     "output_type": "display_data"
    },
    {
     "data": {
      "text/html": [
       "<div style='float:left;width:150px;'>blue blue</div>     <div style='float:left;width:150px;'>slate blue</div>     <div style='float:left;background:#274473;padding:10px;width:300px;'></div>"
      ],
      "text/plain": [
       "<IPython.core.display.HTML object>"
      ]
     },
     "metadata": {},
     "output_type": "display_data"
    },
    {
     "data": {
      "text/html": [
       "<div style='float:left;width:150px;'>light green</div>     <div style='float:left;width:150px;'>seafoam green</div>     <div style='float:left;background:#a7eb8d;padding:10px;width:300px;'></div>"
      ],
      "text/plain": [
       "<IPython.core.display.HTML object>"
      ]
     },
     "metadata": {},
     "output_type": "display_data"
    },
    {
     "data": {
      "text/html": [
       "<div style='float:left;width:150px;'>olive green</div>     <div style='float:left;width:150px;'>dark green</div>     <div style='float:left;background:#464f14;padding:10px;width:300px;'></div>"
      ],
      "text/plain": [
       "<IPython.core.display.HTML object>"
      ]
     },
     "metadata": {},
     "output_type": "display_data"
    },
    {
     "data": {
      "text/html": [
       "<div style='float:left;width:150px;'>dark green</div>     <div style='float:left;width:150px;'>forest green</div>     <div style='float:left;background:#0b4a00;padding:10px;width:300px;'></div>"
      ],
      "text/plain": [
       "<IPython.core.display.HTML object>"
      ]
     },
     "metadata": {},
     "output_type": "display_data"
    },
    {
     "data": {
      "text/html": [
       "<div style='float:left;width:150px;'>light blue</div>     <div style='float:left;width:150px;'>sky blue</div>     <div style='float:left;background:#abc1db;padding:10px;width:300px;'></div>"
      ],
      "text/plain": [
       "<IPython.core.display.HTML object>"
      ]
     },
     "metadata": {},
     "output_type": "display_data"
    },
    {
     "data": {
      "text/html": [
       "<div style='float:left;width:150px;'>light blue</div>     <div style='float:left;width:150px;'>sky blue</div>     <div style='float:left;background:#79def7;padding:10px;width:300px;'></div>"
      ],
      "text/plain": [
       "<IPython.core.display.HTML object>"
      ]
     },
     "metadata": {},
     "output_type": "display_data"
    },
    {
     "data": {
      "text/html": [
       "<div style='float:left;width:150px;'>light blue</div>     <div style='float:left;width:150px;'>light blue</div>     <div style='float:left;background:#5fc2de;padding:10px;width:300px;'></div>"
      ],
      "text/plain": [
       "<IPython.core.display.HTML object>"
      ]
     },
     "metadata": {},
     "output_type": "display_data"
    }
   ],
   "source": [
    "for gen, ref, ref_color in results_gen_seq_2_2[9000:9030]:\n",
    "    display(HTML(\"<div style='float:left;width:150px;'>\"+ gen + \"</div> \\\n",
    "    <div style='float:left;width:150px;'>\"+ ref + \"</div> \\\n",
    "    <div style='float:left;background:\"+ ref_color +\";padding:10px;width:300px;'></div>\"))"
   ]
  },
  {
   "cell_type": "code",
   "execution_count": null,
   "metadata": {},
   "outputs": [],
   "source": []
  }
 ],
 "metadata": {
  "kernelspec": {
   "display_name": "Python 3",
   "language": "python",
   "name": "python3"
  },
  "language_info": {
   "codemirror_mode": {
    "name": "ipython",
    "version": 3
   },
   "file_extension": ".py",
   "mimetype": "text/x-python",
   "name": "python",
   "nbconvert_exporter": "python",
   "pygments_lexer": "ipython3",
   "version": "3.6.8"
  }
 },
 "nbformat": 4,
 "nbformat_minor": 4
}
