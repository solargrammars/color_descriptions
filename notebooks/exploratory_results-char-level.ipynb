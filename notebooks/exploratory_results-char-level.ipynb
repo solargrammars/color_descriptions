{
 "cells": [
  {
   "cell_type": "code",
   "execution_count": 1,
   "metadata": {},
   "outputs": [],
   "source": [
    "import os\n",
    "import sys\n",
    "import random\n",
    "import colorsys\n",
    "module_path = os.path.abspath(os.path.join('..'))\n",
    "if module_path not in sys.path:\n",
    "    sys.path.append(module_path)\n",
    "    \n",
    "from data import read_train_data, read_test_data\n",
    "from colormath.color_objects import HSVColor, sRGBColor, AdobeRGBColor\n",
    "from colormath.color_conversions import convert_color\n",
    "from IPython.display import HTML, display"
   ]
  },
  {
   "cell_type": "code",
   "execution_count": 2,
   "metadata": {},
   "outputs": [],
   "source": [
    "def hsv2hex(c):\n",
    "    r,g,b =  colorsys.hsv_to_rgb(int(c[0])/360, int(c[1])/100, int(c[2])/100)\n",
    "    rgb = sRGBColor(r,g,b)\n",
    "    return rgb.get_rgb_hex()\n",
    "def replace_tokens(d):\n",
    "    d = d.replace(\"<BOS>\", '')\n",
    "    d = d.replace(\"<EOS>\", '')\n",
    "    d = d.replace(\"<PAD>\", '')\n",
    "    return d"
   ]
  },
  {
   "cell_type": "code",
   "execution_count": 3,
   "metadata": {},
   "outputs": [],
   "source": [
    "#output_path = \"/home/user/data/color-description/1535722043char_w_fourier/\"  # 50 \n",
    "output_path = \"/home/user/data/color-description/1535779074char_w_fourier/\"  # 100 \n",
    "#output_path = \"/home/user/data/color-description/1535877690char_w_fourier/\"  # 200\n",
    "\n",
    "with open(output_path+\"19.txt\", 'r') as f:\n",
    "    data = [ replace_tokens(l).strip().split(\"|\") for l in  f.readlines()] \n",
    "    \n",
    "results = [ (i[0].strip(), i[1].strip(), hsv2hex([float(c) for c  in i[2].split(\" \")])) for i in data]"
   ]
  },
  {
   "cell_type": "code",
   "execution_count": 4,
   "metadata": {},
   "outputs": [
    {
     "data": {
      "text/html": [
       "<div style='float:left;width:150px;'>g r e e n</div>     <div style='float:left;width:150px;'>s w a m p   g r e e n</div>     <div style='float:left;background:#8da10e;padding:10px;width:300px;'></div>"
      ],
      "text/plain": [
       "<IPython.core.display.HTML object>"
      ]
     },
     "metadata": {},
     "output_type": "display_data"
    },
    {
     "data": {
      "text/html": [
       "<div style='float:left;width:150px;'>t e a e</div>     <div style='float:left;width:150px;'>b l u e</div>     <div style='float:left;background:#52becc;padding:10px;width:300px;'></div>"
      ],
      "text/plain": [
       "<IPython.core.display.HTML object>"
      ]
     },
     "metadata": {},
     "output_type": "display_data"
    },
    {
     "data": {
      "text/html": [
       "<div style='float:left;width:150px;'>b l u e</div>     <div style='float:left;width:150px;'>b l u e</div>     <div style='float:left;background:#3c04d4;padding:10px;width:300px;'></div>"
      ],
      "text/plain": [
       "<IPython.core.display.HTML object>"
      ]
     },
     "metadata": {},
     "output_type": "display_data"
    },
    {
     "data": {
      "text/html": [
       "<div style='float:left;width:150px;'>p u r p l e</div>     <div style='float:left;width:150px;'>p e r i w i n k l e</div>     <div style='float:left;background:#6e60a1;padding:10px;width:300px;'></div>"
      ],
      "text/plain": [
       "<IPython.core.display.HTML object>"
      ]
     },
     "metadata": {},
     "output_type": "display_data"
    },
    {
     "data": {
      "text/html": [
       "<div style='float:left;width:150px;'>b l u e</div>     <div style='float:left;width:150px;'>b l u e</div>     <div style='float:left;background:#2760f2;padding:10px;width:300px;'></div>"
      ],
      "text/plain": [
       "<IPython.core.display.HTML object>"
      ]
     },
     "metadata": {},
     "output_type": "display_data"
    },
    {
     "data": {
      "text/html": [
       "<div style='float:left;width:150px;'>g r e e n</div>     <div style='float:left;width:150px;'>g r e e n</div>     <div style='float:left;background:#14784e;padding:10px;width:300px;'></div>"
      ],
      "text/plain": [
       "<IPython.core.display.HTML object>"
      ]
     },
     "metadata": {},
     "output_type": "display_data"
    },
    {
     "data": {
      "text/html": [
       "<div style='float:left;width:150px;'>m u r p l e</div>     <div style='float:left;width:150px;'>p i n k i s h   p u r p l e</div>     <div style='float:left;background:#b84b92;padding:10px;width:300px;'></div>"
      ],
      "text/plain": [
       "<IPython.core.display.HTML object>"
      ]
     },
     "metadata": {},
     "output_type": "display_data"
    },
    {
     "data": {
      "text/html": [
       "<div style='float:left;width:150px;'>t e e n</div>     <div style='float:left;width:150px;'>m i n t</div>     <div style='float:left;background:#7ef7b5;padding:10px;width:300px;'></div>"
      ],
      "text/plain": [
       "<IPython.core.display.HTML object>"
      ]
     },
     "metadata": {},
     "output_type": "display_data"
    },
    {
     "data": {
      "text/html": [
       "<div style='float:left;width:150px;'>p u r p l e</div>     <div style='float:left;width:150px;'>b l u e - p u r p l e</div>     <div style='float:left;background:#503cab;padding:10px;width:300px;'></div>"
      ],
      "text/plain": [
       "<IPython.core.display.HTML object>"
      ]
     },
     "metadata": {},
     "output_type": "display_data"
    },
    {
     "data": {
      "text/html": [
       "<div style='float:left;width:150px;'>b l u e</div>     <div style='float:left;width:150px;'>b l u e</div>     <div style='float:left;background:#0048b5;padding:10px;width:300px;'></div>"
      ],
      "text/plain": [
       "<IPython.core.display.HTML object>"
      ]
     },
     "metadata": {},
     "output_type": "display_data"
    },
    {
     "data": {
      "text/html": [
       "<div style='float:left;width:150px;'>d a r p l e</div>     <div style='float:left;width:150px;'>b l u e</div>     <div style='float:left;background:#272359;padding:10px;width:300px;'></div>"
      ],
      "text/plain": [
       "<IPython.core.display.HTML object>"
      ]
     },
     "metadata": {},
     "output_type": "display_data"
    },
    {
     "data": {
      "text/html": [
       "<div style='float:left;width:150px;'>g a r p</div>     <div style='float:left;width:150px;'>o l i v e</div>     <div style='float:left;background:#afb366;padding:10px;width:300px;'></div>"
      ],
      "text/plain": [
       "<IPython.core.display.HTML object>"
      ]
     },
     "metadata": {},
     "output_type": "display_data"
    },
    {
     "data": {
      "text/html": [
       "<div style='float:left;width:150px;'>t e e n</div>     <div style='float:left;width:150px;'>c r e a m</div>     <div style='float:left;background:#fcecc0;padding:10px;width:300px;'></div>"
      ],
      "text/plain": [
       "<IPython.core.display.HTML object>"
      ]
     },
     "metadata": {},
     "output_type": "display_data"
    },
    {
     "data": {
      "text/html": [
       "<div style='float:left;width:150px;'>g r e e n</div>     <div style='float:left;width:150px;'>g r e e n</div>     <div style='float:left;background:#058036;padding:10px;width:300px;'></div>"
      ],
      "text/plain": [
       "<IPython.core.display.HTML object>"
      ]
     },
     "metadata": {},
     "output_type": "display_data"
    },
    {
     "data": {
      "text/html": [
       "<div style='float:left;width:150px;'>p i n k</div>     <div style='float:left;width:150px;'>s a n d</div>     <div style='float:left;background:#f2c083;padding:10px;width:300px;'></div>"
      ],
      "text/plain": [
       "<IPython.core.display.HTML object>"
      ]
     },
     "metadata": {},
     "output_type": "display_data"
    },
    {
     "data": {
      "text/html": [
       "<div style='float:left;width:150px;'>g r e e n</div>     <div style='float:left;width:150px;'>b l u e</div>     <div style='float:left;background:#93c2c7;padding:10px;width:300px;'></div>"
      ],
      "text/plain": [
       "<IPython.core.display.HTML object>"
      ]
     },
     "metadata": {},
     "output_type": "display_data"
    },
    {
     "data": {
      "text/html": [
       "<div style='float:left;width:150px;'>b l u e</div>     <div style='float:left;width:150px;'>b l u e</div>     <div style='float:left;background:#373aed;padding:10px;width:300px;'></div>"
      ],
      "text/plain": [
       "<IPython.core.display.HTML object>"
      ]
     },
     "metadata": {},
     "output_type": "display_data"
    },
    {
     "data": {
      "text/html": [
       "<div style='float:left;width:150px;'>p u r p l e</div>     <div style='float:left;width:150px;'>m a g e n t a</div>     <div style='float:left;background:#d330db;padding:10px;width:300px;'></div>"
      ],
      "text/plain": [
       "<IPython.core.display.HTML object>"
      ]
     },
     "metadata": {},
     "output_type": "display_data"
    },
    {
     "data": {
      "text/html": [
       "<div style='float:left;width:150px;'>o r a n</div>     <div style='float:left;width:150px;'>o r a n g e</div>     <div style='float:left;background:#fc8f4c;padding:10px;width:300px;'></div>"
      ],
      "text/plain": [
       "<IPython.core.display.HTML object>"
      ]
     },
     "metadata": {},
     "output_type": "display_data"
    },
    {
     "data": {
      "text/html": [
       "<div style='float:left;width:150px;'>g r e e n</div>     <div style='float:left;width:150px;'>d a r k   g r e e n</div>     <div style='float:left;background:#507d29;padding:10px;width:300px;'></div>"
      ],
      "text/plain": [
       "<IPython.core.display.HTML object>"
      ]
     },
     "metadata": {},
     "output_type": "display_data"
    }
   ],
   "source": [
    "for gen, ref, ref_color in results[7000:7020]:\n",
    "    display(HTML(\"<div style='float:left;width:150px;'>\"+ gen + \"</div> \\\n",
    "    <div style='float:left;width:150px;'>\"+ ref + \"</div> \\\n",
    "    <div style='float:left;background:\"+ ref_color +\";padding:10px;width:300px;'></div>\"))"
   ]
  },
  {
   "cell_type": "code",
   "execution_count": null,
   "metadata": {},
   "outputs": [],
   "source": []
  }
 ],
 "metadata": {
  "kernelspec": {
   "display_name": "Python 3",
   "language": "python",
   "name": "python3"
  },
  "language_info": {
   "codemirror_mode": {
    "name": "ipython",
    "version": 3
   },
   "file_extension": ".py",
   "mimetype": "text/x-python",
   "name": "python",
   "nbconvert_exporter": "python",
   "pygments_lexer": "ipython3",
   "version": "3.6.8"
  }
 },
 "nbformat": 4,
 "nbformat_minor": 4
}
