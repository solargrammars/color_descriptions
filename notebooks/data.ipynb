{
 "cells": [
  {
   "cell_type": "code",
   "execution_count": 1,
   "metadata": {},
   "outputs": [],
   "source": [
    "import os\n",
    "import sys\n",
    "import random\n",
    "import colorsys\n",
    "module_path = os.path.abspath(os.path.join('..'))\n",
    "if module_path not in sys.path:\n",
    "    sys.path.append(module_path)\n",
    "    \n",
    "from data import read_train_data, read_test_data\n",
    "from colormath.color_objects import HSVColor, sRGBColor, AdobeRGBColor\n",
    "from colormath.color_conversions import convert_color\n",
    "from IPython.display import HTML, display"
   ]
  },
  {
   "cell_type": "code",
   "execution_count": 2,
   "metadata": {},
   "outputs": [],
   "source": [
    "def hsv2hex(c):\n",
    "    r,g,b =  colorsys.hsv_to_rgb(int(c[0])/360, int(c[1])/100, int(c[2])/100)\n",
    "    rgb = sRGBColor(r,g,b)\n",
    "    return rgb.get_rgb_hex()"
   ]
  },
  {
   "cell_type": "code",
   "execution_count": 3,
   "metadata": {},
   "outputs": [],
   "source": [
    "train_path = \"/home/user/data/rugstk/data/munroecorpus/train/\"\n",
    "train_colors = read_train_data(train_path)\n",
    "random.shuffle(train_colors)"
   ]
  },
  {
   "cell_type": "code",
   "execution_count": 4,
   "metadata": {},
   "outputs": [
    {
     "data": {
      "text/plain": [
       "1523108"
      ]
     },
     "execution_count": 4,
     "metadata": {},
     "output_type": "execute_result"
    }
   ],
   "source": [
    "len(train_colors)"
   ]
  },
  {
   "cell_type": "code",
   "execution_count": 5,
   "metadata": {},
   "outputs": [
    {
     "data": {
      "text/html": [
       "<div style='float:left;width:150px;'>neon pink</div>              <div style='float:left;background:#e309eb;padding:10px;width:300px;'></div>"
      ],
      "text/plain": [
       "<IPython.core.display.HTML object>"
      ]
     },
     "metadata": {},
     "output_type": "display_data"
    },
    {
     "data": {
      "text/html": [
       "<div style='float:left;width:150px;'>dark teal</div>              <div style='float:left;background:#3e6158;padding:10px;width:300px;'></div>"
      ],
      "text/plain": [
       "<IPython.core.display.HTML object>"
      ]
     },
     "metadata": {},
     "output_type": "display_data"
    },
    {
     "data": {
      "text/html": [
       "<div style='float:left;width:150px;'>red</div>              <div style='float:left;background:#e33b1e;padding:10px;width:300px;'></div>"
      ],
      "text/plain": [
       "<IPython.core.display.HTML object>"
      ]
     },
     "metadata": {},
     "output_type": "display_data"
    },
    {
     "data": {
      "text/html": [
       "<div style='float:left;width:150px;'>violet</div>              <div style='float:left;background:#8a4e99;padding:10px;width:300px;'></div>"
      ],
      "text/plain": [
       "<IPython.core.display.HTML object>"
      ]
     },
     "metadata": {},
     "output_type": "display_data"
    },
    {
     "data": {
      "text/html": [
       "<div style='float:left;width:150px;'>blue-grey</div>              <div style='float:left;background:#a9c6d1;padding:10px;width:300px;'></div>"
      ],
      "text/plain": [
       "<IPython.core.display.HTML object>"
      ]
     },
     "metadata": {},
     "output_type": "display_data"
    },
    {
     "data": {
      "text/html": [
       "<div style='float:left;width:150px;'>blue</div>              <div style='float:left;background:#4a36e0;padding:10px;width:300px;'></div>"
      ],
      "text/plain": [
       "<IPython.core.display.HTML object>"
      ]
     },
     "metadata": {},
     "output_type": "display_data"
    },
    {
     "data": {
      "text/html": [
       "<div style='float:left;width:150px;'>pink</div>              <div style='float:left;background:#ff0597;padding:10px;width:300px;'></div>"
      ],
      "text/plain": [
       "<IPython.core.display.HTML object>"
      ]
     },
     "metadata": {},
     "output_type": "display_data"
    },
    {
     "data": {
      "text/html": [
       "<div style='float:left;width:150px;'>marigold</div>              <div style='float:left;background:#f0a613;padding:10px;width:300px;'></div>"
      ],
      "text/plain": [
       "<IPython.core.display.HTML object>"
      ]
     },
     "metadata": {},
     "output_type": "display_data"
    },
    {
     "data": {
      "text/html": [
       "<div style='float:left;width:150px;'>blue</div>              <div style='float:left;background:#083d54;padding:10px;width:300px;'></div>"
      ],
      "text/plain": [
       "<IPython.core.display.HTML object>"
      ]
     },
     "metadata": {},
     "output_type": "display_data"
    },
    {
     "data": {
      "text/html": [
       "<div style='float:left;width:150px;'>dark blue</div>              <div style='float:left;background:#1d4469;padding:10px;width:300px;'></div>"
      ],
      "text/plain": [
       "<IPython.core.display.HTML object>"
      ]
     },
     "metadata": {},
     "output_type": "display_data"
    },
    {
     "data": {
      "text/html": [
       "<div style='float:left;width:150px;'>tan</div>              <div style='float:left;background:#fad1ac;padding:10px;width:300px;'></div>"
      ],
      "text/plain": [
       "<IPython.core.display.HTML object>"
      ]
     },
     "metadata": {},
     "output_type": "display_data"
    },
    {
     "data": {
      "text/html": [
       "<div style='float:left;width:150px;'>brown</div>              <div style='float:left;background:#732d08;padding:10px;width:300px;'></div>"
      ],
      "text/plain": [
       "<IPython.core.display.HTML object>"
      ]
     },
     "metadata": {},
     "output_type": "display_data"
    },
    {
     "data": {
      "text/html": [
       "<div style='float:left;width:150px;'>green</div>              <div style='float:left;background:#65f046;padding:10px;width:300px;'></div>"
      ],
      "text/plain": [
       "<IPython.core.display.HTML object>"
      ]
     },
     "metadata": {},
     "output_type": "display_data"
    },
    {
     "data": {
      "text/html": [
       "<div style='float:left;width:150px;'>blue</div>              <div style='float:left;background:#1d16a6;padding:10px;width:300px;'></div>"
      ],
      "text/plain": [
       "<IPython.core.display.HTML object>"
      ]
     },
     "metadata": {},
     "output_type": "display_data"
    },
    {
     "data": {
      "text/html": [
       "<div style='float:left;width:150px;'>blue</div>              <div style='float:left;background:#546fb8;padding:10px;width:300px;'></div>"
      ],
      "text/plain": [
       "<IPython.core.display.HTML object>"
      ]
     },
     "metadata": {},
     "output_type": "display_data"
    },
    {
     "data": {
      "text/html": [
       "<div style='float:left;width:150px;'>lime green</div>              <div style='float:left;background:#73eb02;padding:10px;width:300px;'></div>"
      ],
      "text/plain": [
       "<IPython.core.display.HTML object>"
      ]
     },
     "metadata": {},
     "output_type": "display_data"
    },
    {
     "data": {
      "text/html": [
       "<div style='float:left;width:150px;'>light orange</div>              <div style='float:left;background:#c7932c;padding:10px;width:300px;'></div>"
      ],
      "text/plain": [
       "<IPython.core.display.HTML object>"
      ]
     },
     "metadata": {},
     "output_type": "display_data"
    },
    {
     "data": {
      "text/html": [
       "<div style='float:left;width:150px;'>brown</div>              <div style='float:left;background:#9c553a;padding:10px;width:300px;'></div>"
      ],
      "text/plain": [
       "<IPython.core.display.HTML object>"
      ]
     },
     "metadata": {},
     "output_type": "display_data"
    },
    {
     "data": {
      "text/html": [
       "<div style='float:left;width:150px;'>cornflower</div>              <div style='float:left;background:#315bbd;padding:10px;width:300px;'></div>"
      ],
      "text/plain": [
       "<IPython.core.display.HTML object>"
      ]
     },
     "metadata": {},
     "output_type": "display_data"
    },
    {
     "data": {
      "text/html": [
       "<div style='float:left;width:150px;'>pink</div>              <div style='float:left;background:#e619af;padding:10px;width:300px;'></div>"
      ],
      "text/plain": [
       "<IPython.core.display.HTML object>"
      ]
     },
     "metadata": {},
     "output_type": "display_data"
    }
   ],
   "source": [
    "for color in train_colors[20:40]:\n",
    "    display(HTML(\"<div style='float:left;width:150px;'>\"+ color.string  + \"</div> \\\n",
    "             <div style='float:left;background:\"+ hsv2hex(color.color) +\";padding:10px;width:300px;'></div>\"))"
   ]
  },
  {
   "cell_type": "code",
   "execution_count": 11,
   "metadata": {},
   "outputs": [],
   "source": [
    "test_path = \"/home/user/data/rugstk/data/munroecorpus/25test/\"\n",
    "test_colors = read_test_data(test_path)\n",
    "random.shuffle(test_colors)"
   ]
  },
  {
   "cell_type": "code",
   "execution_count": 12,
   "metadata": {},
   "outputs": [
    {
     "data": {
      "text/plain": [
       "544764"
      ]
     },
     "execution_count": 12,
     "metadata": {},
     "output_type": "execute_result"
    }
   ],
   "source": [
    "len(test_colors)"
   ]
  },
  {
   "cell_type": "code",
   "execution_count": 14,
   "metadata": {},
   "outputs": [
    {
     "data": {
      "text/html": [
       "<div style='float:left;width:150px;'>orange</div>              <div style='float:left;background:#d66502;padding:10px;width:300px;'></div>"
      ],
      "text/plain": [
       "<IPython.core.display.HTML object>"
      ]
     },
     "metadata": {},
     "output_type": "display_data"
    },
    {
     "data": {
      "text/html": [
       "<div style='float:left;width:150px;'>grey</div>              <div style='float:left;background:#918d86;padding:10px;width:300px;'></div>"
      ],
      "text/plain": [
       "<IPython.core.display.HTML object>"
      ]
     },
     "metadata": {},
     "output_type": "display_data"
    },
    {
     "data": {
      "text/html": [
       "<div style='float:left;width:150px;'>purple</div>              <div style='float:left;background:#61244b;padding:10px;width:300px;'></div>"
      ],
      "text/plain": [
       "<IPython.core.display.HTML object>"
      ]
     },
     "metadata": {},
     "output_type": "display_data"
    },
    {
     "data": {
      "text/html": [
       "<div style='float:left;width:150px;'>blue</div>              <div style='float:left;background:#4676cf;padding:10px;width:300px;'></div>"
      ],
      "text/plain": [
       "<IPython.core.display.HTML object>"
      ]
     },
     "metadata": {},
     "output_type": "display_data"
    },
    {
     "data": {
      "text/html": [
       "<div style='float:left;width:150px;'>blue</div>              <div style='float:left;background:#ade5f0;padding:10px;width:300px;'></div>"
      ],
      "text/plain": [
       "<IPython.core.display.HTML object>"
      ]
     },
     "metadata": {},
     "output_type": "display_data"
    },
    {
     "data": {
      "text/html": [
       "<div style='float:left;width:150px;'>aqua</div>              <div style='float:left;background:#02e692;padding:10px;width:300px;'></div>"
      ],
      "text/plain": [
       "<IPython.core.display.HTML object>"
      ]
     },
     "metadata": {},
     "output_type": "display_data"
    },
    {
     "data": {
      "text/html": [
       "<div style='float:left;width:150px;'>green</div>              <div style='float:left;background:#59f09a;padding:10px;width:300px;'></div>"
      ],
      "text/plain": [
       "<IPython.core.display.HTML object>"
      ]
     },
     "metadata": {},
     "output_type": "display_data"
    },
    {
     "data": {
      "text/html": [
       "<div style='float:left;width:150px;'>dark green</div>              <div style='float:left;background:#225928;padding:10px;width:300px;'></div>"
      ],
      "text/plain": [
       "<IPython.core.display.HTML object>"
      ]
     },
     "metadata": {},
     "output_type": "display_data"
    },
    {
     "data": {
      "text/html": [
       "<div style='float:left;width:150px;'>blue</div>              <div style='float:left;background:#6b0cc9;padding:10px;width:300px;'></div>"
      ],
      "text/plain": [
       "<IPython.core.display.HTML object>"
      ]
     },
     "metadata": {},
     "output_type": "display_data"
    },
    {
     "data": {
      "text/html": [
       "<div style='float:left;width:150px;'>light green</div>              <div style='float:left;background:#98f06c;padding:10px;width:300px;'></div>"
      ],
      "text/plain": [
       "<IPython.core.display.HTML object>"
      ]
     },
     "metadata": {},
     "output_type": "display_data"
    },
    {
     "data": {
      "text/html": [
       "<div style='float:left;width:150px;'>sky blue</div>              <div style='float:left;background:#6992fa;padding:10px;width:300px;'></div>"
      ],
      "text/plain": [
       "<IPython.core.display.HTML object>"
      ]
     },
     "metadata": {},
     "output_type": "display_data"
    },
    {
     "data": {
      "text/html": [
       "<div style='float:left;width:150px;'>purple</div>              <div style='float:left;background:#6f30c2;padding:10px;width:300px;'></div>"
      ],
      "text/plain": [
       "<IPython.core.display.HTML object>"
      ]
     },
     "metadata": {},
     "output_type": "display_data"
    },
    {
     "data": {
      "text/html": [
       "<div style='float:left;width:150px;'>rust red</div>              <div style='float:left;background:#942c1c;padding:10px;width:300px;'></div>"
      ],
      "text/plain": [
       "<IPython.core.display.HTML object>"
      ]
     },
     "metadata": {},
     "output_type": "display_data"
    },
    {
     "data": {
      "text/html": [
       "<div style='float:left;width:150px;'>olive green</div>              <div style='float:left;background:#81a608;padding:10px;width:300px;'></div>"
      ],
      "text/plain": [
       "<IPython.core.display.HTML object>"
      ]
     },
     "metadata": {},
     "output_type": "display_data"
    },
    {
     "data": {
      "text/html": [
       "<div style='float:left;width:150px;'>tan</div>              <div style='float:left;background:#e08a43;padding:10px;width:300px;'></div>"
      ],
      "text/plain": [
       "<IPython.core.display.HTML object>"
      ]
     },
     "metadata": {},
     "output_type": "display_data"
    },
    {
     "data": {
      "text/html": [
       "<div style='float:left;width:150px;'>ochre</div>              <div style='float:left;background:#b34219;padding:10px;width:300px;'></div>"
      ],
      "text/plain": [
       "<IPython.core.display.HTML object>"
      ]
     },
     "metadata": {},
     "output_type": "display_data"
    },
    {
     "data": {
      "text/html": [
       "<div style='float:left;width:150px;'>pale orange</div>              <div style='float:left;background:#d9b421;padding:10px;width:300px;'></div>"
      ],
      "text/plain": [
       "<IPython.core.display.HTML object>"
      ]
     },
     "metadata": {},
     "output_type": "display_data"
    },
    {
     "data": {
      "text/html": [
       "<div style='float:left;width:150px;'>puke</div>              <div style='float:left;background:#78947b;padding:10px;width:300px;'></div>"
      ],
      "text/plain": [
       "<IPython.core.display.HTML object>"
      ]
     },
     "metadata": {},
     "output_type": "display_data"
    },
    {
     "data": {
      "text/html": [
       "<div style='float:left;width:150px;'>navy blue</div>              <div style='float:left;background:#0c0c69;padding:10px;width:300px;'></div>"
      ],
      "text/plain": [
       "<IPython.core.display.HTML object>"
      ]
     },
     "metadata": {},
     "output_type": "display_data"
    },
    {
     "data": {
      "text/html": [
       "<div style='float:left;width:150px;'>brown</div>              <div style='float:left;background:#a17220;padding:10px;width:300px;'></div>"
      ],
      "text/plain": [
       "<IPython.core.display.HTML object>"
      ]
     },
     "metadata": {},
     "output_type": "display_data"
    },
    {
     "data": {
      "text/html": [
       "<div style='float:left;width:150px;'>bright red</div>              <div style='float:left;background:#f01331;padding:10px;width:300px;'></div>"
      ],
      "text/plain": [
       "<IPython.core.display.HTML object>"
      ]
     },
     "metadata": {},
     "output_type": "display_data"
    },
    {
     "data": {
      "text/html": [
       "<div style='float:left;width:150px;'>aqua</div>              <div style='float:left;background:#23fa99;padding:10px;width:300px;'></div>"
      ],
      "text/plain": [
       "<IPython.core.display.HTML object>"
      ]
     },
     "metadata": {},
     "output_type": "display_data"
    },
    {
     "data": {
      "text/html": [
       "<div style='float:left;width:150px;'>raspberry</div>              <div style='float:left;background:#9e3951;padding:10px;width:300px;'></div>"
      ],
      "text/plain": [
       "<IPython.core.display.HTML object>"
      ]
     },
     "metadata": {},
     "output_type": "display_data"
    },
    {
     "data": {
      "text/html": [
       "<div style='float:left;width:150px;'>grey green</div>              <div style='float:left;background:#7c9677;padding:10px;width:300px;'></div>"
      ],
      "text/plain": [
       "<IPython.core.display.HTML object>"
      ]
     },
     "metadata": {},
     "output_type": "display_data"
    },
    {
     "data": {
      "text/html": [
       "<div style='float:left;width:150px;'>green</div>              <div style='float:left;background:#2e8036;padding:10px;width:300px;'></div>"
      ],
      "text/plain": [
       "<IPython.core.display.HTML object>"
      ]
     },
     "metadata": {},
     "output_type": "display_data"
    },
    {
     "data": {
      "text/html": [
       "<div style='float:left;width:150px;'>pink</div>              <div style='float:left;background:#db2c6c;padding:10px;width:300px;'></div>"
      ],
      "text/plain": [
       "<IPython.core.display.HTML object>"
      ]
     },
     "metadata": {},
     "output_type": "display_data"
    },
    {
     "data": {
      "text/html": [
       "<div style='float:left;width:150px;'>teal</div>              <div style='float:left;background:#15c288;padding:10px;width:300px;'></div>"
      ],
      "text/plain": [
       "<IPython.core.display.HTML object>"
      ]
     },
     "metadata": {},
     "output_type": "display_data"
    },
    {
     "data": {
      "text/html": [
       "<div style='float:left;width:150px;'>blue</div>              <div style='float:left;background:#281cd4;padding:10px;width:300px;'></div>"
      ],
      "text/plain": [
       "<IPython.core.display.HTML object>"
      ]
     },
     "metadata": {},
     "output_type": "display_data"
    },
    {
     "data": {
      "text/html": [
       "<div style='float:left;width:150px;'>green</div>              <div style='float:left;background:#5d9914;padding:10px;width:300px;'></div>"
      ],
      "text/plain": [
       "<IPython.core.display.HTML object>"
      ]
     },
     "metadata": {},
     "output_type": "display_data"
    },
    {
     "data": {
      "text/html": [
       "<div style='float:left;width:150px;'>dark lavender</div>              <div style='float:left;background:#5c5d99;padding:10px;width:300px;'></div>"
      ],
      "text/plain": [
       "<IPython.core.display.HTML object>"
      ]
     },
     "metadata": {},
     "output_type": "display_data"
    },
    {
     "data": {
      "text/html": [
       "<div style='float:left;width:150px;'>teal</div>              <div style='float:left;background:#3ae0a6;padding:10px;width:300px;'></div>"
      ],
      "text/plain": [
       "<IPython.core.display.HTML object>"
      ]
     },
     "metadata": {},
     "output_type": "display_data"
    },
    {
     "data": {
      "text/html": [
       "<div style='float:left;width:150px;'>royal blue</div>              <div style='float:left;background:#091dd6;padding:10px;width:300px;'></div>"
      ],
      "text/plain": [
       "<IPython.core.display.HTML object>"
      ]
     },
     "metadata": {},
     "output_type": "display_data"
    },
    {
     "data": {
      "text/html": [
       "<div style='float:left;width:150px;'>royal blue</div>              <div style='float:left;background:#124ba6;padding:10px;width:300px;'></div>"
      ],
      "text/plain": [
       "<IPython.core.display.HTML object>"
      ]
     },
     "metadata": {},
     "output_type": "display_data"
    },
    {
     "data": {
      "text/html": [
       "<div style='float:left;width:150px;'>dark pink</div>              <div style='float:left;background:#e055cc;padding:10px;width:300px;'></div>"
      ],
      "text/plain": [
       "<IPython.core.display.HTML object>"
      ]
     },
     "metadata": {},
     "output_type": "display_data"
    },
    {
     "data": {
      "text/html": [
       "<div style='float:left;width:150px;'>purple</div>              <div style='float:left;background:#a43bd1;padding:10px;width:300px;'></div>"
      ],
      "text/plain": [
       "<IPython.core.display.HTML object>"
      ]
     },
     "metadata": {},
     "output_type": "display_data"
    },
    {
     "data": {
      "text/html": [
       "<div style='float:left;width:150px;'>yellow</div>              <div style='float:left;background:#e3e28d;padding:10px;width:300px;'></div>"
      ],
      "text/plain": [
       "<IPython.core.display.HTML object>"
      ]
     },
     "metadata": {},
     "output_type": "display_data"
    },
    {
     "data": {
      "text/html": [
       "<div style='float:left;width:150px;'>blue</div>              <div style='float:left;background:#1e54e8;padding:10px;width:300px;'></div>"
      ],
      "text/plain": [
       "<IPython.core.display.HTML object>"
      ]
     },
     "metadata": {},
     "output_type": "display_data"
    },
    {
     "data": {
      "text/html": [
       "<div style='float:left;width:150px;'>tan</div>              <div style='float:left;background:#ebcf98;padding:10px;width:300px;'></div>"
      ],
      "text/plain": [
       "<IPython.core.display.HTML object>"
      ]
     },
     "metadata": {},
     "output_type": "display_data"
    },
    {
     "data": {
      "text/html": [
       "<div style='float:left;width:150px;'>blue</div>              <div style='float:left;background:#0805e6;padding:10px;width:300px;'></div>"
      ],
      "text/plain": [
       "<IPython.core.display.HTML object>"
      ]
     },
     "metadata": {},
     "output_type": "display_data"
    },
    {
     "data": {
      "text/html": [
       "<div style='float:left;width:150px;'>purple</div>              <div style='float:left;background:#866ce6;padding:10px;width:300px;'></div>"
      ],
      "text/plain": [
       "<IPython.core.display.HTML object>"
      ]
     },
     "metadata": {},
     "output_type": "display_data"
    }
   ],
   "source": [
    "for color in test_colors[0:40]:\n",
    "    display(HTML(\"<div style='float:left;width:150px;'>\"+ color.string  + \"</div> \\\n",
    "             <div style='float:left;background:\"+ hsv2hex(color.color) +\";padding:10px;width:300px;'></div>\"))"
   ]
  },
  {
   "cell_type": "code",
   "execution_count": null,
   "metadata": {},
   "outputs": [],
   "source": []
  }
 ],
 "metadata": {
  "kernelspec": {
   "display_name": "Python 3",
   "language": "python",
   "name": "python3"
  },
  "language_info": {
   "codemirror_mode": {
    "name": "ipython",
    "version": 3
   },
   "file_extension": ".py",
   "mimetype": "text/x-python",
   "name": "python",
   "nbconvert_exporter": "python",
   "pygments_lexer": "ipython3",
   "version": "3.6.8"
  }
 },
 "nbformat": 4,
 "nbformat_minor": 4
}
